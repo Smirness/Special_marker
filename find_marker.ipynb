{
 "cells": [
  {
   "cell_type": "markdown",
   "source": [
    "# Assignment.\n",
    "Need to find a sequence from a fasta file with specified parameters. The parameters are as follows:\n",
    "\n",
    "Basic:\n",
    "1) The sequence has two regions with a specific sequence, but mismatch (1-2 nt.) is allowed.\n",
    "2) The length between the two regions is approximately 37 nt. (Internal sequence length in nt.)\n",
    "\n",
    "Additional:\n",
    "1) Sequence must be unique by NCBI Blastnt.\n",
    "2) Conserved (from exons that are in all alternative splicing variants)\n",
    "3) Sequence length is approximately 79 nt . (can be shorter)\n",
    "4) The sequence must not form a stable secondary structure according to mfold - Quikfold (with Energy rules: RNA 4.0)."
   ],
   "metadata": {
    "collapsed": false
   }
  },
  {
   "cell_type": "markdown",
   "source": [
    "# Idea of Searching\n",
    "<img src=\"images/process.png\" height=\"700\">"
   ],
   "metadata": {
    "collapsed": false
   }
  },
  {
   "cell_type": "markdown",
   "source": [
    "# Upload Data\n",
    "Read fasta file:"
   ],
   "metadata": {
    "collapsed": false
   }
  },
  {
   "cell_type": "code",
   "execution_count": 616,
   "outputs": [
    {
     "name": "stdout",
     "output_type": "stream",
     "text": [
      "4.557 kb is a size of ref|NM_004448.4|:3588-4557 Homo sapiens erb-b2 receptor tyrosine kinase 2 (ERBB2), transcript variant 1, mRNA\n"
     ]
    }
   ],
   "source": [
    "# import needed package\n",
    "from Bio import SeqIO\n",
    "import pandas as pd\n",
    "\n",
    "fasta_file = \"input/NM_004448.4.exons.fa\" # path to the fasta file\n",
    "\n",
    "mRNA_seq = '' # string for forming a single sequence\n",
    "with open('output/mRNA_seq.fa', 'w') as f:\n",
    "        for seq_record in SeqIO.parse(fasta_file, \"fasta\"):\n",
    "                mRNA_seq += str(seq_record.seq)\n",
    "\n",
    "        f.write(f'> Homo sapiens erb-b2 receptor tyrosine kinase 2 (ERBB2)\\n')\n",
    "        f.write(f'{mRNA_seq}\\n')\n",
    "\n",
    "len_mRNA_seq = len(mRNA_seq)\n",
    "print(len_mRNA_seq/10**3, 'kb', f'is a size of {seq_record.description}')"
   ],
   "metadata": {
    "collapsed": false
   }
  },
  {
   "cell_type": "markdown",
   "source": [
    "# SETUP FOR SEARCHING"
   ],
   "metadata": {
    "collapsed": false
   }
  },
  {
   "cell_type": "code",
   "execution_count": 617,
   "outputs": [],
   "source": [
    "# --------SETUP FOR SEARCHING--------\n",
    "\n",
    "# How long should the regions be that will bond with the scaffold and displace the arms?\n",
    "len_seq_1 = 6 # nt. length for find_seq_1\n",
    "len_seq_2 = 6 # nt. length for find_seq_2\n",
    "\n",
    "# Internal sequence length in nt.\n",
    "len_inter_seq = 37\n",
    "# variance for internal sequence length in nt.\n",
    "var_inter = 3\n",
    "\n",
    "# How many mismatches are acceptable?\n",
    "mm_nt_1 = 2 # number mismatch for searching sequence 1\n",
    "mm_nt_2 = 2 # number mismatch for searching sequence 2"
   ],
   "metadata": {
    "collapsed": false
   }
  },
  {
   "cell_type": "markdown",
   "source": [
    "<img src=\"images/image_1.png\" height=\"300\">"
   ],
   "metadata": {
    "collapsed": false
   }
  },
  {
   "cell_type": "code",
   "execution_count": 618,
   "outputs": [],
   "source": [
    "# Let's define some sequences for further work\n",
    "cons_seq_1 = 'TATTTTATTC' # conservative sequence 1\n",
    "cons_seq_2 = 'TTGCTGTGGA' # conservative sequence 2\n",
    "\n",
    "find_seq_1 = cons_seq_1[:len_seq_1] # seq 1 for searching process\n",
    "find_seq_2 = cons_seq_2[len(cons_seq_2)-len_seq_2:] # seq 1 for searching process"
   ],
   "metadata": {
    "collapsed": false
   }
  },
  {
   "cell_type": "markdown",
   "source": [
    "# SEARCHING\n",
    "For convenience of saving the found sequences, let's create a class **Marker**"
   ],
   "metadata": {
    "collapsed": false
   }
  },
  {
   "cell_type": "code",
   "execution_count": 619,
   "outputs": [],
   "source": [
    "class Marker:\n",
    "        def __init__(self, region_1, region_1_cord, region_2, region_2_cord, inner_seq):\n",
    "                self.region_1 = region_1\n",
    "                self.region_1_cord = region_1_cord\n",
    "                self.region_2 = region_2\n",
    "                self.region_2_cord = region_2_cord\n",
    "                self.inner_seq = inner_seq\n",
    "                self.seq_marker = ' '.join([self.region_1, self.inner_seq, self.region_2])\n",
    "                self.marker_cord = [region_1_cord[0]+1, region_2_cord[1]]"
   ],
   "metadata": {
    "collapsed": false
   }
  },
  {
   "cell_type": "markdown",
   "source": [
    "We need a function that will compare two sequences admitting mismatches. Let's write it"
   ],
   "metadata": {
    "collapsed": false
   }
  },
  {
   "cell_type": "code",
   "execution_count": 620,
   "outputs": [],
   "source": [
    "def compare(seq_1, seq_2, max_mm):\n",
    "        \"\"\"\n",
    "        Сompare two sequences admitting mismatches\n",
    "        :param seq_1: 1st sequence (reference)\n",
    "        :param seq_2: 2nd sequence (template)\n",
    "        :param max_mm: Number of acceptable mismatches\n",
    "        :return: True or False\n",
    "        \"\"\"\n",
    "        n_mm = 0\n",
    "        for i in range(len(seq_1)):\n",
    "                if seq_1[i] != seq_2[i]:\n",
    "                        n_mm += 1\n",
    "                if n_mm >= max_mm+1 or len(seq_1) != len(seq_2):\n",
    "                        return False\n",
    "\n",
    "        return True"
   ],
   "metadata": {
    "collapsed": false
   }
  },
  {
   "cell_type": "code",
   "execution_count": 621,
   "outputs": [],
   "source": [
    "list_markers = []\n",
    "\n",
    "for i in range(len_mRNA_seq):\n",
    "        current_reg_1 = mRNA_seq[i:i + len_seq_1] # get a region for further comparison\n",
    "\n",
    "        if compare(current_reg_1, find_seq_1, mm_nt_1): # find current_reg_1 which is closer to find_seq_1\n",
    "                for len_inter_j in range(len_inter_seq - var_inter, len_inter_seq + var_inter+1):\n",
    "                        current_reg_2 = mRNA_seq[i + len_seq_1 + len_inter_j:i + len_seq_1 + len_inter_j + len_seq_2]\n",
    "                        if len(current_reg_2) == len(find_seq_2) and compare(current_reg_2, find_seq_2, mm_nt_2):\n",
    "                                reg_1 = current_reg_1\n",
    "                                reg_1_cord = [i, i + len_seq_1]\n",
    "                                reg_2 = current_reg_2\n",
    "                                reg_2_cord = [i + len_seq_1 + len_inter_j, i + len_seq_1 + len_inter_j + len_seq_2]\n",
    "                                inner_seq = mRNA_seq[reg_1_cord[1] : reg_2_cord[0]]\n",
    "                                list_markers.append(Marker(reg_1, reg_1_cord, reg_2, reg_2_cord, inner_seq))\n"
   ],
   "metadata": {
    "collapsed": false
   }
  },
  {
   "cell_type": "code",
   "execution_count": 622,
   "outputs": [],
   "source": [
    "table_markers = pd.DataFrame(columns=['Marker', 'Length', 'Position']) # create dataframe\n",
    "\n",
    "for marker in list_markers:\n",
    "        new_row = {'Marker': marker.seq_marker,\n",
    "                   'Length': len(marker.seq_marker)-2,\n",
    "                   'Position': marker.marker_cord}\n",
    "        new_df = pd.DataFrame([new_row])\n",
    "\n",
    "        table_markers = pd.concat([table_markers, new_df], axis=0, ignore_index=True)"
   ],
   "metadata": {
    "collapsed": false
   }
  },
  {
   "cell_type": "markdown",
   "source": [
    "# RESULT"
   ],
   "metadata": {
    "collapsed": false
   }
  },
  {
   "cell_type": "code",
   "execution_count": 623,
   "outputs": [
    {
     "data": {
      "text/plain": "                                               Marker Length      Position\n0   TGTTCT CCGATGTGTAAGGGCTCCCGCTGCTGGGGAGAGAGTTC ...     50    [758, 807]\n1   AATTCT GCACAATGGCGCCTACTCGCTGACCCTGCAAGGGC TGGGCA     47  [1477, 1523]\n2   TCTTTC GGAACCCGCACCAAGCTCTGCTCCACACTGCCAACCGGC...     52  [1629, 1680]\n3   TGTTTT GGACCGGAGGCTGACCAGTGTGTGGCCTGTGCCCACTA ...     50  [1901, 1950]\n4   TATGTC TCCCGCCTTCTGGGCATCTGCCTGACATCCACGGTGCAG...     52  [2516, 2567]\n5   CATTCT CCGCCGGCGGTTCACCCACCAGAGTGATGTGTGGAGT T...     49  [2854, 2902]\n6   TCTTTG TGGATTCTGAGGCCCTGCCCAATGAGACTCTAGGGTCC ...     50  [4158, 4207]\n7   TACTTT TTTTGTTTTGTTTTTTTAAAGATGAAATAAAGACCCA G...     49  [4425, 4473]\n8   ACTTTT TTTGTTTTGTTTTTTTAAAGATGAAATAAAGACCCA GG...     48  [4426, 4473]\n9   CTTTTT TTGTTTTGTTTTTTTAAAGATGAAATAAAGACCCA GGGGGA     47  [4427, 4473]\n10   TTTTTT TGTTTTGTTTTTTTAAAGATGAAATAAAGACCCA GGGGGA     46  [4428, 4473]\n11  TTTTGT TTTTTTAAAGATGAAATAAAGACCCAGGGGGAGAATGGG...     51  [4436, 4486]\n12  TTTGTT TTTTTAAAGATGAAATAAAGACCCAGGGGGAGAATGGG ...     50  [4437, 4486]\n13  TTGTTT TTTTAAAGATGAAATAAAGACCCAGGGGGAGAATGGG T...     49  [4438, 4486]\n14  TGTTTT TTTAAAGATGAAATAAAGACCCAGGGGGAGAATGGG TG...     48  [4439, 4486]\n15  GTTTTT TTAAAGATGAAATAAAGACCCAGGGGGAGAATGGG TGTTGT     47  [4440, 4486]\n16  GTTTTT TTAAAGATGAAATAAAGACCCAGGGGGAGAATGGGTGTT...     52  [4440, 4491]\n17   TTTTTT TAAAGATGAAATAAAGACCCAGGGGGAGAATGGG TGTTGT     46  [4441, 4486]\n18  TTTTTT TAAAGATGAAATAAAGACCCAGGGGGAGAATGGGTGTTG...     51  [4441, 4491]\n19  TTTTTT AAAGATGAAATAAAGACCCAGGGGGAGAATGGGTGTTG ...     50  [4442, 4491]\n20  TTTTTT AAAGATGAAATAAAGACCCAGGGGGAGAATGGGTGTTGT...     52  [4442, 4493]\n21  TTTTTA AAGATGAAATAAAGACCCAGGGGGAGAATGGGTGTTG T...     49  [4443, 4491]\n22  TTTTTA AAGATGAAATAAAGACCCAGGGGGAGAATGGGTGTTGTA...     51  [4443, 4493]",
      "text/html": "<div>\n<style scoped>\n    .dataframe tbody tr th:only-of-type {\n        vertical-align: middle;\n    }\n\n    .dataframe tbody tr th {\n        vertical-align: top;\n    }\n\n    .dataframe thead th {\n        text-align: right;\n    }\n</style>\n<table border=\"1\" class=\"dataframe\">\n  <thead>\n    <tr style=\"text-align: right;\">\n      <th></th>\n      <th>Marker</th>\n      <th>Length</th>\n      <th>Position</th>\n    </tr>\n  </thead>\n  <tbody>\n    <tr>\n      <th>0</th>\n      <td>TGTTCT CCGATGTGTAAGGGCTCCCGCTGCTGGGGAGAGAGTTC ...</td>\n      <td>50</td>\n      <td>[758, 807]</td>\n    </tr>\n    <tr>\n      <th>1</th>\n      <td>AATTCT GCACAATGGCGCCTACTCGCTGACCCTGCAAGGGC TGGGCA</td>\n      <td>47</td>\n      <td>[1477, 1523]</td>\n    </tr>\n    <tr>\n      <th>2</th>\n      <td>TCTTTC GGAACCCGCACCAAGCTCTGCTCCACACTGCCAACCGGC...</td>\n      <td>52</td>\n      <td>[1629, 1680]</td>\n    </tr>\n    <tr>\n      <th>3</th>\n      <td>TGTTTT GGACCGGAGGCTGACCAGTGTGTGGCCTGTGCCCACTA ...</td>\n      <td>50</td>\n      <td>[1901, 1950]</td>\n    </tr>\n    <tr>\n      <th>4</th>\n      <td>TATGTC TCCCGCCTTCTGGGCATCTGCCTGACATCCACGGTGCAG...</td>\n      <td>52</td>\n      <td>[2516, 2567]</td>\n    </tr>\n    <tr>\n      <th>5</th>\n      <td>CATTCT CCGCCGGCGGTTCACCCACCAGAGTGATGTGTGGAGT T...</td>\n      <td>49</td>\n      <td>[2854, 2902]</td>\n    </tr>\n    <tr>\n      <th>6</th>\n      <td>TCTTTG TGGATTCTGAGGCCCTGCCCAATGAGACTCTAGGGTCC ...</td>\n      <td>50</td>\n      <td>[4158, 4207]</td>\n    </tr>\n    <tr>\n      <th>7</th>\n      <td>TACTTT TTTTGTTTTGTTTTTTTAAAGATGAAATAAAGACCCA G...</td>\n      <td>49</td>\n      <td>[4425, 4473]</td>\n    </tr>\n    <tr>\n      <th>8</th>\n      <td>ACTTTT TTTGTTTTGTTTTTTTAAAGATGAAATAAAGACCCA GG...</td>\n      <td>48</td>\n      <td>[4426, 4473]</td>\n    </tr>\n    <tr>\n      <th>9</th>\n      <td>CTTTTT TTGTTTTGTTTTTTTAAAGATGAAATAAAGACCCA GGGGGA</td>\n      <td>47</td>\n      <td>[4427, 4473]</td>\n    </tr>\n    <tr>\n      <th>10</th>\n      <td>TTTTTT TGTTTTGTTTTTTTAAAGATGAAATAAAGACCCA GGGGGA</td>\n      <td>46</td>\n      <td>[4428, 4473]</td>\n    </tr>\n    <tr>\n      <th>11</th>\n      <td>TTTTGT TTTTTTAAAGATGAAATAAAGACCCAGGGGGAGAATGGG...</td>\n      <td>51</td>\n      <td>[4436, 4486]</td>\n    </tr>\n    <tr>\n      <th>12</th>\n      <td>TTTGTT TTTTTAAAGATGAAATAAAGACCCAGGGGGAGAATGGG ...</td>\n      <td>50</td>\n      <td>[4437, 4486]</td>\n    </tr>\n    <tr>\n      <th>13</th>\n      <td>TTGTTT TTTTAAAGATGAAATAAAGACCCAGGGGGAGAATGGG T...</td>\n      <td>49</td>\n      <td>[4438, 4486]</td>\n    </tr>\n    <tr>\n      <th>14</th>\n      <td>TGTTTT TTTAAAGATGAAATAAAGACCCAGGGGGAGAATGGG TG...</td>\n      <td>48</td>\n      <td>[4439, 4486]</td>\n    </tr>\n    <tr>\n      <th>15</th>\n      <td>GTTTTT TTAAAGATGAAATAAAGACCCAGGGGGAGAATGGG TGTTGT</td>\n      <td>47</td>\n      <td>[4440, 4486]</td>\n    </tr>\n    <tr>\n      <th>16</th>\n      <td>GTTTTT TTAAAGATGAAATAAAGACCCAGGGGGAGAATGGGTGTT...</td>\n      <td>52</td>\n      <td>[4440, 4491]</td>\n    </tr>\n    <tr>\n      <th>17</th>\n      <td>TTTTTT TAAAGATGAAATAAAGACCCAGGGGGAGAATGGG TGTTGT</td>\n      <td>46</td>\n      <td>[4441, 4486]</td>\n    </tr>\n    <tr>\n      <th>18</th>\n      <td>TTTTTT TAAAGATGAAATAAAGACCCAGGGGGAGAATGGGTGTTG...</td>\n      <td>51</td>\n      <td>[4441, 4491]</td>\n    </tr>\n    <tr>\n      <th>19</th>\n      <td>TTTTTT AAAGATGAAATAAAGACCCAGGGGGAGAATGGGTGTTG ...</td>\n      <td>50</td>\n      <td>[4442, 4491]</td>\n    </tr>\n    <tr>\n      <th>20</th>\n      <td>TTTTTT AAAGATGAAATAAAGACCCAGGGGGAGAATGGGTGTTGT...</td>\n      <td>52</td>\n      <td>[4442, 4493]</td>\n    </tr>\n    <tr>\n      <th>21</th>\n      <td>TTTTTA AAGATGAAATAAAGACCCAGGGGGAGAATGGGTGTTG T...</td>\n      <td>49</td>\n      <td>[4443, 4491]</td>\n    </tr>\n    <tr>\n      <th>22</th>\n      <td>TTTTTA AAGATGAAATAAAGACCCAGGGGGAGAATGGGTGTTGTA...</td>\n      <td>51</td>\n      <td>[4443, 4493]</td>\n    </tr>\n  </tbody>\n</table>\n</div>"
     },
     "execution_count": 623,
     "metadata": {},
     "output_type": "execute_result"
    }
   ],
   "source": [
    "# show list of found markers\n",
    "table_markers"
   ],
   "metadata": {
    "collapsed": false
   }
  },
  {
   "cell_type": "code",
   "execution_count": 624,
   "outputs": [],
   "source": [
    "# Make fasta file for NCBI blast\n",
    "with open('output/list_markers.fa', 'w') as f:\n",
    "        for i in range(table_markers.shape[0]):\n",
    "                f.write(f'> Marker wih position {table_markers[\"Position\"][i]}\\n')\n",
    "                marker_seq = table_markers[\"Marker\"][i].replace(\" \",\"\")\n",
    "                f.write(f'{marker_seq}\\n')"
   ],
   "metadata": {
    "collapsed": false
   }
  },
  {
   "cell_type": "code",
   "execution_count": null,
   "outputs": [],
   "source": [],
   "metadata": {
    "collapsed": false
   }
  }
 ],
 "metadata": {
  "kernelspec": {
   "display_name": "Python 3",
   "language": "python",
   "name": "python3"
  },
  "language_info": {
   "codemirror_mode": {
    "name": "ipython",
    "version": 2
   },
   "file_extension": ".py",
   "mimetype": "text/x-python",
   "name": "python",
   "nbconvert_exporter": "python",
   "pygments_lexer": "ipython2",
   "version": "2.7.6"
  }
 },
 "nbformat": 4,
 "nbformat_minor": 0
}
